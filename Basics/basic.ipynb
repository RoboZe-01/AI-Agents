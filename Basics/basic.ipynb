{
 "cells": [
  {
   "cell_type": "markdown",
   "id": "bf510adc",
   "metadata": {},
   "source": [
    "## Agentic ai \n"
   ]
  },
  {
   "cell_type": "code",
   "execution_count": 3,
   "id": "3620bb3f",
   "metadata": {},
   "outputs": [
    {
     "name": "stdout",
     "output_type": "stream",
     "text": [
      "Requirement already satisfied: google-genai in d:\\robotics\\ai agents\\.venv\\lib\\site-packages (1.28.0)\n",
      "Requirement already satisfied: anyio<5.0.0,>=4.8.0 in d:\\robotics\\ai agents\\.venv\\lib\\site-packages (from google-genai) (4.9.0)\n",
      "Requirement already satisfied: google-auth<3.0.0,>=2.14.1 in d:\\robotics\\ai agents\\.venv\\lib\\site-packages (from google-genai) (2.40.3)\n",
      "Requirement already satisfied: httpx<1.0.0,>=0.28.1 in d:\\robotics\\ai agents\\.venv\\lib\\site-packages (from google-genai) (0.28.1)\n",
      "Requirement already satisfied: pydantic<3.0.0,>=2.0.0 in d:\\robotics\\ai agents\\.venv\\lib\\site-packages (from google-genai) (2.11.7)\n",
      "Requirement already satisfied: requests<3.0.0,>=2.28.1 in d:\\robotics\\ai agents\\.venv\\lib\\site-packages (from google-genai) (2.32.4)\n",
      "Requirement already satisfied: tenacity<9.0.0,>=8.2.3 in d:\\robotics\\ai agents\\.venv\\lib\\site-packages (from google-genai) (8.5.0)\n",
      "Requirement already satisfied: websockets<15.1.0,>=13.0.0 in d:\\robotics\\ai agents\\.venv\\lib\\site-packages (from google-genai) (15.0.1)\n",
      "Requirement already satisfied: typing-extensions<5.0.0,>=4.11.0 in d:\\robotics\\ai agents\\.venv\\lib\\site-packages (from google-genai) (4.14.1)\n",
      "Requirement already satisfied: idna>=2.8 in d:\\robotics\\ai agents\\.venv\\lib\\site-packages (from anyio<5.0.0,>=4.8.0->google-genai) (3.10)\n",
      "Requirement already satisfied: sniffio>=1.1 in d:\\robotics\\ai agents\\.venv\\lib\\site-packages (from anyio<5.0.0,>=4.8.0->google-genai) (1.3.1)\n",
      "Requirement already satisfied: cachetools<6.0,>=2.0.0 in d:\\robotics\\ai agents\\.venv\\lib\\site-packages (from google-auth<3.0.0,>=2.14.1->google-genai) (5.5.2)\n",
      "Requirement already satisfied: pyasn1-modules>=0.2.1 in d:\\robotics\\ai agents\\.venv\\lib\\site-packages (from google-auth<3.0.0,>=2.14.1->google-genai) (0.4.2)\n",
      "Requirement already satisfied: rsa<5,>=3.1.4 in d:\\robotics\\ai agents\\.venv\\lib\\site-packages (from google-auth<3.0.0,>=2.14.1->google-genai) (4.9.1)\n",
      "Requirement already satisfied: certifi in d:\\robotics\\ai agents\\.venv\\lib\\site-packages (from httpx<1.0.0,>=0.28.1->google-genai) (2025.7.14)\n",
      "Requirement already satisfied: httpcore==1.* in d:\\robotics\\ai agents\\.venv\\lib\\site-packages (from httpx<1.0.0,>=0.28.1->google-genai) (1.0.9)\n",
      "Requirement already satisfied: h11>=0.16 in d:\\robotics\\ai agents\\.venv\\lib\\site-packages (from httpcore==1.*->httpx<1.0.0,>=0.28.1->google-genai) (0.16.0)\n",
      "Requirement already satisfied: annotated-types>=0.6.0 in d:\\robotics\\ai agents\\.venv\\lib\\site-packages (from pydantic<3.0.0,>=2.0.0->google-genai) (0.7.0)\n",
      "Requirement already satisfied: pydantic-core==2.33.2 in d:\\robotics\\ai agents\\.venv\\lib\\site-packages (from pydantic<3.0.0,>=2.0.0->google-genai) (2.33.2)\n",
      "Requirement already satisfied: typing-inspection>=0.4.0 in d:\\robotics\\ai agents\\.venv\\lib\\site-packages (from pydantic<3.0.0,>=2.0.0->google-genai) (0.4.1)\n",
      "Requirement already satisfied: charset_normalizer<4,>=2 in d:\\robotics\\ai agents\\.venv\\lib\\site-packages (from requests<3.0.0,>=2.28.1->google-genai) (3.4.2)\n",
      "Requirement already satisfied: urllib3<3,>=1.21.1 in d:\\robotics\\ai agents\\.venv\\lib\\site-packages (from requests<3.0.0,>=2.28.1->google-genai) (2.5.0)\n",
      "Requirement already satisfied: pyasn1>=0.1.3 in d:\\robotics\\ai agents\\.venv\\lib\\site-packages (from rsa<5,>=3.1.4->google-auth<3.0.0,>=2.14.1->google-genai) (0.6.1)\n"
     ]
    }
   ],
   "source": [
    "\n",
    "!pip install google-genai\n"
   ]
  },
  {
   "cell_type": "code",
   "execution_count": 5,
   "id": "013bbb01",
   "metadata": {},
   "outputs": [],
   "source": [
    "from getpass import getpass\n",
    "gemini_key = getpass(\"Enter you api key : ..\")\n",
    "\n"
   ]
  },
  {
   "cell_type": "code",
   "execution_count": 6,
   "id": "864b0674",
   "metadata": {},
   "outputs": [
    {
     "name": "stdout",
     "output_type": "stream",
     "text": [
      "AI learns from data to recognize patterns and make decisions.\n"
     ]
    }
   ],
   "source": [
    "from google import genai\n",
    "client = genai.Client(api_key=gemini_key)\n",
    "response = client.models.generate_content(\n",
    "    model=\"gemini-2.5-flash\", contents=\"Explain how AI works in a few words\"\n",
    ")\n",
    "print(response.text)"
   ]
  },
  {
   "cell_type": "code",
   "execution_count": null,
   "id": "a5b216a9",
   "metadata": {},
   "outputs": [],
   "source": []
  }
 ],
 "metadata": {
  "kernelspec": {
   "display_name": ".venv",
   "language": "python",
   "name": "python3"
  },
  "language_info": {
   "codemirror_mode": {
    "name": "ipython",
    "version": 3
   },
   "file_extension": ".py",
   "mimetype": "text/x-python",
   "name": "python",
   "nbconvert_exporter": "python",
   "pygments_lexer": "ipython3",
   "version": "3.11.9"
  }
 },
 "nbformat": 4,
 "nbformat_minor": 5
}
